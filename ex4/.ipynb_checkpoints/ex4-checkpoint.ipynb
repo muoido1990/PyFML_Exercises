{
 "cells": [
  {
   "cell_type": "code",
   "execution_count": 18,
   "metadata": {
    "collapsed": false
   },
   "outputs": [
    {
     "name": "stdout",
     "output_type": "stream",
     "text": [
      "Enter IP adress: 192.168.1.1\n",
      "11000000.10101000.1.1\n"
     ]
    }
   ],
   "source": [
    "'''\n",
    "Biết function input('Bạn tên gì?') sẽ in ra màn hình dòng chữ \"Bạn tên gì?\"\n",
    "và chờ bạn nhập câu trả lời. Sau khi bạn gõ câu trả lời rồi enter,\n",
    "nội dung bạn vừa gõ sẽ được function trả về:\n",
    "In [4]: name = input('Bạn tên gì? ')\n",
    "Bạn tên gì? Hưng\n",
    "\n",
    "In [5]: print(name)\n",
    "Hưng\n",
    "\n",
    "Viết chương trình nhận đầu vào là một địa chỉ IP (VD: 192.168.1.1),\n",
    "in ra màn hình dạng binary của từng số tương ứng.\n",
    "Input:\n",
    "192.168.1.1\n",
    "\n",
    "Output:\n",
    "11000000.10101000.1.1\n",
    "\n",
    "Note:\n",
    "Trên Python2, function tương ứng tên là `raw_input`\n",
    "'''\n",
    "IP = input('Enter IP adress: ')\n",
    "nums_in_IP = IP.split('.')\n",
    "L =[]\n",
    "for i in nums_in_IP:\n",
    "    binary = bin(int(i))\n",
    "    nums_binary = binary[2:]\n",
    "    L.append(nums_binary)\n",
    "L2 = '.'.join(L)\n",
    "print(L2)"
   ]
  },
  {
   "cell_type": "code",
   "execution_count": 33,
   "metadata": {
    "collapsed": false
   },
   "outputs": [
    {
     "name": "stdout",
     "output_type": "stream",
     "text": [
      "0o133\n"
     ]
    }
   ],
   "source": [
    "'''\n",
    "Biết 0o644 là biểu diễn của giá trị 420 (hệ 10) trên hệ bát phân (8-Octal).\n",
    "Phải cộng 0o644 thêm bao nhiêu (ở dạng Octal) để thu được 0o777 ? In ra màn\n",
    "hình giá trị đó.\n",
    "Với người dùng Unix, mode của một file được biểu diễn ở dạng Octal, VD:\n",
    "644, 400, 777.\n",
    "'''\n",
    "x = 0o777 - 0o644\n",
    "print(oct(x))"
   ]
  },
  {
   "cell_type": "code",
   "execution_count": 16,
   "metadata": {
    "collapsed": false
   },
   "outputs": [
    {
     "name": "stdout",
     "output_type": "stream",
     "text": [
      "0\n",
      "13168189440000\n"
     ]
    }
   ],
   "source": [
    "'''\n",
    "Cho list numbers chứa các giá trị từ -10 đến 10, trừ số 0.\n",
    "In ra tuple chứa tổng (sum) và tích (product) của các phần tử trong list numbers.\n",
    "Không sử dụng hàm ``sum``.\n",
    "\n",
    "Input::\n",
    "\n",
    "  li = range(-10, 11)\n",
    "  li = list(li)\n",
    "  li.remove(0)\n",
    "\n",
    "Thêm dòng sau vào cuối bài để kiểm tra kết quả::\n",
    "\n",
    "  from functools import reduce\n",
    "  assert (mysum, myproduct) == (sum(numbers), reduce(lambda x,y: x*y, numbers))\n",
    "'''\n",
    "li = range(-10, 11)\n",
    "li = list(li)\n",
    "li.remove(0)\n",
    "\n",
    "summ = 0\n",
    "for i in li:\n",
    "    summ += i\n",
    "print(summ)\n",
    "\n",
    "product = 1\n",
    "for i in li:\n",
    "    product *= i\n",
    "print(product)"
   ]
  },
  {
   "cell_type": "code",
   "execution_count": 33,
   "metadata": {
    "collapsed": false
   },
   "outputs": [
    {
     "name": "stdout",
     "output_type": "stream",
     "text": [
      "[60, 20, 0]\n"
     ]
    }
   ],
   "source": [
    "'''\n",
    "Cho string s::\n",
    "\n",
    "  s = 'Em ơi có bao nhiêu, 60năm cuộc đời, 20 năm đầu, sung sướng0bao lâu'\n",
    "\n",
    "Tạo ra list numbers chứa tất cả các số trong string này theo thứ tự chúng xuất hiện trong ``s``.\n",
    "\n",
    "Output::\n",
    "\n",
    "  assert numbers == [60, 20, 0]\n",
    "'''\n",
    "\n",
    "s = 'Em ơi có bao nhiêu, 60năm cuộc đời, 20 năm đầu, sung sướng0bao lâu'\n",
    "numbers = []\n",
    "a_number = []\n",
    "\n",
    "for c in s:\n",
    "    if c.isdigit():\n",
    "        a_number.append(c)\n",
    "    else:\n",
    "        s = ''.join(a_number)\n",
    "        if s:\n",
    "            n = int(s)\n",
    "            numbers.append(n)\n",
    "            a_number = []\n",
    "            \n",
    "print(numbers)\n",
    "                    "
   ]
  },
  {
   "cell_type": "code",
   "execution_count": 18,
   "metadata": {
    "collapsed": false
   },
   "outputs": [
    {
     "data": {
      "text/plain": [
       "False"
      ]
     },
     "execution_count": 18,
     "metadata": {},
     "output_type": "execute_result"
    }
   ],
   "source": [
    "s.isdigit()"
   ]
  },
  {
   "cell_type": "code",
   "execution_count": 5,
   "metadata": {
    "collapsed": false
   },
   "outputs": [],
   "source": [
    "cans = ['giáp', 'ất', 'bính', 'đinh', 'mậu', 'kỷ', 'canh', 'tân', 'nhâm', 'quý']\n",
    "chis = ['tý', 'sửu', 'dần', 'mão', 'thìn', 'tị', 'ngọ', 'mui', 'thân', 'dậu',\n",
    " 'tuất', 'hợi']\n",
    "can_chi = []\n",
    "year = list(range(2008,2021))\n",
    "\n",
    "\n",
    "    "
   ]
  },
  {
   "cell_type": "code",
   "execution_count": 6,
   "metadata": {
    "collapsed": false
   },
   "outputs": [
    {
     "data": {
      "text/plain": [
       "2017"
      ]
     },
     "execution_count": 6,
     "metadata": {},
     "output_type": "execute_result"
    }
   ],
   "source": [
    "# year[9] = 2017\n",
    "# cans[3] ="
   ]
  },
  {
   "cell_type": "code",
   "execution_count": null,
   "metadata": {
    "collapsed": true
   },
   "outputs": [],
   "source": []
  }
 ],
 "metadata": {
  "kernelspec": {
   "display_name": "Python 3",
   "language": "python",
   "name": "python3"
  },
  "language_info": {
   "codemirror_mode": {
    "name": "ipython",
    "version": 3
   },
   "file_extension": ".py",
   "mimetype": "text/x-python",
   "name": "python",
   "nbconvert_exporter": "python",
   "pygments_lexer": "ipython3",
   "version": "3.6.0"
  }
 },
 "nbformat": 4,
 "nbformat_minor": 2
}
