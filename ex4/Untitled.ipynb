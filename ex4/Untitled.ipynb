{
 "cells": [
  {
   "cell_type": "code",
   "execution_count": 18,
   "metadata": {
    "collapsed": false
   },
   "outputs": [
    {
     "name": "stdout",
     "output_type": "stream",
     "text": [
      "Enter IP adress: 192.168.1.1\n",
      "11000000.10101000.1.1\n"
     ]
    }
   ],
   "source": [
    "'''\n",
    "Biết function input('Bạn tên gì?') sẽ in ra màn hình dòng chữ \"Bạn tên gì?\"\n",
    "và chờ bạn nhập câu trả lời. Sau khi bạn gõ câu trả lời rồi enter,\n",
    "nội dung bạn vừa gõ sẽ được function trả về:\n",
    "In [4]: name = input('Bạn tên gì? ')\n",
    "Bạn tên gì? Hưng\n",
    "\n",
    "In [5]: print(name)\n",
    "Hưng\n",
    "\n",
    "Viết chương trình nhận đầu vào là một địa chỉ IP (VD: 192.168.1.1),\n",
    "in ra màn hình dạng binary của từng số tương ứng.\n",
    "Input:\n",
    "192.168.1.1\n",
    "\n",
    "Output:\n",
    "11000000.10101000.1.1\n",
    "\n",
    "Note:\n",
    "Trên Python2, function tương ứng tên là `raw_input`\n",
    "'''\n",
    "IP = input('Enter IP adress: ')\n",
    "nums_in_IP = IP.split('.')\n",
    "L =[]\n",
    "for i in nums_in_IP:\n",
    "    binary = bin(int(i))\n",
    "    nums_binary = binary[2:]\n",
    "    L.append(nums_binary)\n",
    "L2 = '.'.join(L)\n",
    "print(L2)"
   ]
  },
  {
   "cell_type": "code",
   "execution_count": 33,
   "metadata": {
    "collapsed": false
   },
   "outputs": [
    {
     "name": "stdout",
     "output_type": "stream",
     "text": [
      "0o133\n"
     ]
    }
   ],
   "source": [
    "'''\n",
    "Biết 0o644 là biểu diễn của giá trị 420 (hệ 10) trên hệ bát phân (8-Octal).\n",
    "Phải cộng 0o644 thêm bao nhiêu (ở dạng Octal) để thu được 0o777 ? In ra màn\n",
    "hình giá trị đó.\n",
    "Với người dùng Unix, mode của một file được biểu diễn ở dạng Octal, VD:\n",
    "644, 400, 777.\n",
    "'''\n",
    "x = 0o777 - 0o644\n",
    "print(oct(x))"
   ]
  },
  {
   "cell_type": "code",
   "execution_count": 39,
   "metadata": {
    "collapsed": false
   },
   "outputs": [
    {
     "ename": "AttributeError",
     "evalue": "module 'string' has no attribute 'ascii'",
     "output_type": "error",
     "traceback": [
      "\u001b[0;31m---------------------------------------------------------------------------\u001b[0m",
      "\u001b[0;31mAttributeError\u001b[0m                            Traceback (most recent call last)",
      "\u001b[0;32m<ipython-input-39-bae958328868>\u001b[0m in \u001b[0;36m<module>\u001b[0;34m()\u001b[0m\n\u001b[1;32m     14\u001b[0m \u001b[0mL\u001b[0m \u001b[0;34m=\u001b[0m \u001b[0;34m[\u001b[0m\u001b[0;34m'numpy'\u001b[0m\u001b[0;34m,\u001b[0m \u001b[0;34m'django'\u001b[0m\u001b[0;34m,\u001b[0m \u001b[0;34m'saltstack'\u001b[0m\u001b[0;34m,\u001b[0m \u001b[0;34m'discipline'\u001b[0m\u001b[0;34m,\u001b[0m \u001b[0;34m'Python'\u001b[0m\u001b[0;34m,\u001b[0m \u001b[0;34m'FAMILUG'\u001b[0m\u001b[0;34m,\u001b[0m \u001b[0;34m'pymi'\u001b[0m\u001b[0;34m]\u001b[0m\u001b[0;34m\u001b[0m\u001b[0m\n\u001b[1;32m     15\u001b[0m \u001b[0;32mimport\u001b[0m \u001b[0mstring\u001b[0m\u001b[0;34m\u001b[0m\u001b[0m\n\u001b[0;32m---> 16\u001b[0;31m \u001b[0malphabet\u001b[0m \u001b[0;34m=\u001b[0m \u001b[0mstring\u001b[0m\u001b[0;34m.\u001b[0m\u001b[0mascii\u001b[0m\u001b[0;34m\u001b[0m\u001b[0m\n\u001b[0m",
      "\u001b[0;31mAttributeError\u001b[0m: module 'string' has no attribute 'ascii'"
     ]
    }
   ],
   "source": [
    "'''\n",
    "Tính \"điểm\" cho từ:\n",
    "(http://www.familug.org/2015/05/golang-tinh-tu-cung-9gag.html)\n",
    "Nếu a b c d (không phân biệt chữ hoa thường) .... lần lượt bằng 1 2 3 4 ...\n",
    "thì từ attitude có giá trị bằng 100\n",
    "Tính giá trị của các từ:\n",
    "Input: ['numpy', 'django', 'saltstack', 'discipline', 'Python', 'FAMILUG', 'pymi']\n",
    "Output: list chứa \"điểm\" tương ứng của các từ.\n",
    "Gợi ý:\n",
    "import string\n",
    "print string.ascii_lowercase\n",
    "\n",
    "'''\n",
    "L = ['numpy', 'django', 'saltstack', 'discipline', 'Python', 'FAMILUG', 'pymi']\n",
    "\n"
   ]
  },
  {
   "cell_type": "code",
   "execution_count": null,
   "metadata": {
    "collapsed": false
   },
   "outputs": [],
   "source": [
    "'''\n",
    "Giải bài toán lớp 3 có số đáp án khổng lồ\n",
    "(http://www.familug.org/2015/05/codegolf-giai-bai-toan-lop-3-co-so.html)\n",
    "Với các biến a,b,c,d,e,f,g,h,i là các số nằm trong khoảng 1-9 (các biến có thể\n",
    "có giá trị giống nhau), dạng biểu thức:\n",
    "\n",
    "a + 13 * b / c + d + 12 * e – f – 11 + g * h / i – 10 = 66\n",
    "In ra màn hình số nghiệm của bài toán.\n",
    "'''\n",
    "counting = 0\n",
    "L=[]\n",
    "for a in range(1,10):\n",
    "    for b in range(1,10):\n",
    "        for c in range(1,10):\n",
    "            for d in range(1,10):\n",
    "                for e in range(1,10):\n",
    "                    for f in range(1,10):\n",
    "                        for g in range(1,10):\n",
    "                            for h in range(1,10):\n",
    "                                for i in range(1,10):\n",
    "                                    if a+13*b/c+d+12*e-f-11+g*h/i-10 == 66:\n",
    "                                       L.append(a,b,c,d,e,f,g,h,i)\n",
    "print(len(L))\n",
    "                                    "
   ]
  },
  {
   "cell_type": "code",
   "execution_count": null,
   "metadata": {
    "collapsed": false
   },
   "outputs": [],
   "source": [
    "abc"
   ]
  },
  {
   "cell_type": "code",
   "execution_count": null,
   "metadata": {
    "collapsed": false
   },
   "outputs": [],
   "source": [
    "\n",
    "    "
   ]
  },
  {
   "cell_type": "code",
   "execution_count": null,
   "metadata": {
    "collapsed": true
   },
   "outputs": [],
   "source": []
  }
 ],
 "metadata": {
  "kernelspec": {
   "display_name": "Python 3",
   "language": "python",
   "name": "python3"
  },
  "language_info": {
   "codemirror_mode": {
    "name": "ipython",
    "version": 3
   },
   "file_extension": ".py",
   "mimetype": "text/x-python",
   "name": "python",
   "nbconvert_exporter": "python",
   "pygments_lexer": "ipython3",
   "version": "3.6.0"
  }
 },
 "nbformat": 4,
 "nbformat_minor": 2
}
